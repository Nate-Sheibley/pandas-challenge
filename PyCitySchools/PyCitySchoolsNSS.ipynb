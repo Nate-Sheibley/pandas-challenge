{
 "cells": [
  {
   "cell_type": "markdown",
   "metadata": {
    "metadata": {}
   },
   "source": [
    "# PyCity mSchools Analysis\n",
    "\n",
    "## Analysis"
   ]
  },
  {
   "cell_type": "markdown",
   "metadata": {},
   "source": [
    "## Code"
   ]
  },
  {
   "cell_type": "code",
   "execution_count": 134,
   "metadata": {
    "metadata": {}
   },
   "outputs": [],
   "source": [
    "import os\n",
    "from pathlib import Path\n",
    "import pandas as pd"
   ]
  },
  {
   "cell_type": "markdown",
   "metadata": {},
   "source": [
    "### Loading the data and looking at properties"
   ]
  },
  {
   "cell_type": "code",
   "execution_count": 135,
   "metadata": {
    "metadata": {}
   },
   "outputs": [],
   "source": [
    "schools_path = Path('Resources/schools_complete.csv')\n",
    "students_path = Path('Resources/students_complete.csv')\n",
    "\n",
    "schools_df = pd.read_csv(schools_path)\n",
    "students_df = pd.read_csv(students_path)"
   ]
  },
  {
   "cell_type": "code",
   "execution_count": 136,
   "metadata": {
    "metadata": {}
   },
   "outputs": [
    {
     "name": "stdout",
     "output_type": "stream",
     "text": [
      "Dataframe for: Schools\n",
      "Columns: Index(['School ID', 'school_name', 'type', 'size', 'budget'], dtype='object')\n",
      "Shape: (15, 5)\n",
      "column dtypes: School ID       int64\n",
      "school_name    object\n",
      "type           object\n",
      "size            int64\n",
      "budget          int64\n",
      "dtype: object\n",
      "\n",
      "\n",
      "Dataframe for: Students\n",
      "Columns: Index(['Student ID', 'student_name', 'gender', 'grade', 'school_name',\n",
      "       'reading_score', 'math_score'],\n",
      "      dtype='object')\n",
      "Shape: (39170, 7)\n",
      "column dtypes: Student ID        int64\n",
      "student_name     object\n",
      "gender           object\n",
      "grade            object\n",
      "school_name      object\n",
      "reading_score     int64\n",
      "math_score        int64\n",
      "dtype: object\n",
      "\n",
      "\n"
     ]
    }
   ],
   "source": [
    "#Print columns, shape, and datatypes of dataframes \n",
    "for name, df in [('Schools',schools_df), ('Students',students_df)]:\n",
    "    print('Dataframe for:', name)\n",
    "    print('Columns:', df.columns)\n",
    "    print('Shape:', df.shape)\n",
    "    print('column dtypes:',df.dtypes)\n",
    "    print('\\n')\n"
   ]
  },
  {
   "cell_type": "code",
   "execution_count": 137,
   "metadata": {
    "metadata": {}
   },
   "outputs": [
    {
     "name": "stdout",
     "output_type": "stream",
     "text": [
      "In dataframe Schools:\n",
      "Column : count of NA values\n",
      "School ID : 0\n",
      "school_name : 0\n",
      "type : 0\n",
      "size : 0\n",
      "budget : 0\n",
      "\n",
      "\n",
      "In dataframe Students:\n",
      "Column : count of NA values\n",
      "Student ID : 0\n",
      "student_name : 0\n",
      "gender : 0\n",
      "grade : 0\n",
      "school_name : 0\n",
      "reading_score : 0\n",
      "math_score : 0\n",
      "\n",
      "\n"
     ]
    }
   ],
   "source": [
    "# Count NA values in each column\n",
    "for name, df in [('Schools',schools_df), ('Students',students_df)]:\n",
    "    print(f'In dataframe {name}:')\n",
    "    print(f'Column : count of NA values')\n",
    "    for col in df.columns:\n",
    "        print(f'{col} :', df[col].isna().sum())\n",
    "    print('\\n')"
   ]
  },
  {
   "cell_type": "markdown",
   "metadata": {},
   "source": [
    "### Merge dataframes"
   ]
  },
  {
   "cell_type": "code",
   "execution_count": 138,
   "metadata": {
    "metadata": {}
   },
   "outputs": [
    {
     "data": {
      "text/plain": [
       "True"
      ]
     },
     "execution_count": 138,
     "metadata": {},
     "output_type": "execute_result"
    }
   ],
   "source": [
    "# Ensure the School ID count matches the school name count in both datasets\n",
    "# This is a check to ensure that there are no misspelled or other abbreviations used in the school name\n",
    "# Assumption: School ID is a complete list of unique school identifiers and there are no incorrect entries\n",
    "len(schools_df['School ID'].unique()) == len(schools_df['school_name'].unique()) == len(students_df['school_name'].unique())"
   ]
  },
  {
   "cell_type": "code",
   "execution_count": 139,
   "metadata": {
    "metadata": {}
   },
   "outputs": [
    {
     "data": {
      "text/plain": [
       "(39170, 11)"
      ]
     },
     "execution_count": 139,
     "metadata": {},
     "output_type": "execute_result"
    }
   ],
   "source": [
    "merged_df = pd.merge(schools_df, students_df, on='school_name')\n",
    "merged_df.shape"
   ]
  },
  {
   "cell_type": "markdown",
   "metadata": {},
   "source": [
    "### Calculate District Summary Values"
   ]
  },
  {
   "cell_type": "code",
   "execution_count": 140,
   "metadata": {
    "metadata": {}
   },
   "outputs": [
    {
     "data": {
      "text/plain": [
       "15"
      ]
     },
     "execution_count": 140,
     "metadata": {},
     "output_type": "execute_result"
    }
   ],
   "source": [
    "num_unqiue_schools = len(schools_df['School ID'].unique())\n",
    "num_unqiue_schools"
   ]
  },
  {
   "cell_type": "code",
   "execution_count": 141,
   "metadata": {
    "metadata": {}
   },
   "outputs": [
    {
     "data": {
      "text/plain": [
       "39170"
      ]
     },
     "execution_count": 141,
     "metadata": {},
     "output_type": "execute_result"
    }
   ],
   "source": [
    "total_students = len(students_df['Student ID'].unique())\n",
    "total_students"
   ]
  },
  {
   "cell_type": "code",
   "execution_count": 142,
   "metadata": {
    "metadata": {}
   },
   "outputs": [
    {
     "data": {
      "text/plain": [
       "24649428"
      ]
     },
     "execution_count": 142,
     "metadata": {},
     "output_type": "execute_result"
    }
   ],
   "source": [
    "total_budget = schools_df['budget'].sum()\n",
    "total_budget"
   ]
  },
  {
   "cell_type": "code",
   "execution_count": 143,
   "metadata": {
    "metadata": {}
   },
   "outputs": [
    {
     "name": "stdout",
     "output_type": "stream",
     "text": [
      "78.98537145774827 81.87784018381414\n"
     ]
    }
   ],
   "source": [
    "avg_math_score = merged_df['math_score'].mean()\n",
    "avg_reading_score = merged_df['reading_score'].mean()\n",
    "print(avg_math_score, avg_reading_score)"
   ]
  },
  {
   "cell_type": "code",
   "execution_count": 144,
   "metadata": {
    "metadata": {}
   },
   "outputs": [
    {
     "data": {
      "text/plain": [
       "0.749808526933878"
      ]
     },
     "execution_count": 144,
     "metadata": {},
     "output_type": "execute_result"
    }
   ],
   "source": [
    "perc_pass_math = merged_df['math_score'].ge(70).sum() / total_students\n",
    "perc_pass_math"
   ]
  },
  {
   "cell_type": "code",
   "execution_count": 145,
   "metadata": {
    "metadata": {}
   },
   "outputs": [
    {
     "data": {
      "text/plain": [
       "0.8580546336482001"
      ]
     },
     "execution_count": 145,
     "metadata": {},
     "output_type": "execute_result"
    }
   ],
   "source": [
    "perc_pass_read = merged_df['reading_score'].ge(70).sum() / total_students\n",
    "perc_pass_read"
   ]
  },
  {
   "cell_type": "code",
   "execution_count": 146,
   "metadata": {
    "metadata": {}
   },
   "outputs": [
    {
     "data": {
      "text/plain": [
       "0.6517232575950983"
      ]
     },
     "execution_count": 146,
     "metadata": {},
     "output_type": "execute_result"
    }
   ],
   "source": [
    "perc_pass_both = (merged_df['reading_score'].ge(70) & merged_df['math_score'].ge(70)).sum() / total_students\n",
    "perc_pass_both"
   ]
  },
  {
   "cell_type": "code",
   "execution_count": 147,
   "metadata": {
    "metadata": {}
   },
   "outputs": [
    {
     "data": {
      "text/html": [
       "<div>\n",
       "<style scoped>\n",
       "    .dataframe tbody tr th:only-of-type {\n",
       "        vertical-align: middle;\n",
       "    }\n",
       "\n",
       "    .dataframe tbody tr th {\n",
       "        vertical-align: top;\n",
       "    }\n",
       "\n",
       "    .dataframe thead th {\n",
       "        text-align: right;\n",
       "    }\n",
       "</style>\n",
       "<table border=\"1\" class=\"dataframe\">\n",
       "  <thead>\n",
       "    <tr style=\"text-align: right;\">\n",
       "      <th></th>\n",
       "      <th>Number of unique schools</th>\n",
       "      <th>Total Students</th>\n",
       "      <th>Total Budget</th>\n",
       "      <th>Avg Math Score</th>\n",
       "      <th>Percent Passing Math</th>\n",
       "      <th>Avg Reading Score</th>\n",
       "      <th>Percent Passing Reading</th>\n",
       "      <th>Percent Passing Overall</th>\n",
       "    </tr>\n",
       "  </thead>\n",
       "  <tbody>\n",
       "    <tr>\n",
       "      <th>0</th>\n",
       "      <td>15</td>\n",
       "      <td>39,170</td>\n",
       "      <td>$24,649,428.00</td>\n",
       "      <td>78.99%</td>\n",
       "      <td>74.98%</td>\n",
       "      <td>81.88%</td>\n",
       "      <td>85.81%</td>\n",
       "      <td>65.17%</td>\n",
       "    </tr>\n",
       "  </tbody>\n",
       "</table>\n",
       "</div>"
      ],
      "text/plain": [
       "   Number of unique schools Total Students    Total Budget Avg Math Score  \\\n",
       "0                        15         39,170  $24,649,428.00         78.99%   \n",
       "\n",
       "  Percent Passing Math Avg Reading Score Percent Passing Reading  \\\n",
       "0               74.98%            81.88%                  85.81%   \n",
       "\n",
       "  Percent Passing Overall  \n",
       "0                  65.17%  "
      ]
     },
     "execution_count": 147,
     "metadata": {},
     "output_type": "execute_result"
    }
   ],
   "source": [
    "district_summary = pd.DataFrame({\n",
    "    'Number of unique schools' : [num_unqiue_schools],\n",
    "    'Total Students' : f'{total_students:,}',\n",
    "    'Total Budget' : f'${total_budget:,.2f}',\n",
    "    'Avg Math Score' : f'{avg_math_score:.2f}%',\n",
    "    'Percent Passing Math' : f'{perc_pass_math:.2%}',\n",
    "    'Avg Reading Score' : f'{avg_reading_score:.2f}%',\n",
    "    'Percent Passing Reading' : f'{perc_pass_read:.2%}',\n",
    "    'Percent Passing Overall' : f'{perc_pass_both:.2%}'\n",
    "})\n",
    "district_summary"
   ]
  },
  {
   "cell_type": "markdown",
   "metadata": {},
   "source": [
    "### Calculate School Summary Values"
   ]
  },
  {
   "cell_type": "code",
   "execution_count": 149,
   "metadata": {
    "metadata": {}
   },
   "outputs": [],
   "source": [
    "# Use the code provided to select the type per school from school_data\n",
    "school_types = merged_df.set_index([\"school_name\"])[\"type\"]"
   ]
  },
  {
   "cell_type": "code",
   "execution_count": 152,
   "metadata": {
    "metadata": {}
   },
   "outputs": [],
   "source": [
    "# Make a df copy so that I am not operating on the same memory location as district summary data\n",
    "groupby_school_ID = merged_df.copy().groupby('School ID')"
   ]
  },
  {
   "cell_type": "code",
   "execution_count": null,
   "metadata": {},
   "outputs": [],
   "source": []
  }
 ],
 "metadata": {
  "kernelspec": {
   "display_name": "Python 3",
   "language": "python",
   "name": "python3"
  },
  "language_info": {
   "codemirror_mode": {
    "name": "ipython",
    "version": 3
   },
   "file_extension": ".py",
   "mimetype": "text/x-python",
   "name": "python",
   "nbconvert_exporter": "python",
   "pygments_lexer": "ipython3",
   "version": "3.12.3"
  }
 },
 "nbformat": 4,
 "nbformat_minor": 2
}
